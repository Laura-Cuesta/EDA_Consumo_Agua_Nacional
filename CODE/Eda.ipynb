{
 "cells": [
  {
   "cell_type": "code",
   "execution_count": 1,
   "metadata": {},
   "outputs": [],
   "source": [
    "\n",
    "import pandas as pd\n",
    "import numpy as np"
   ]
  },
  {
   "cell_type": "code",
   "execution_count": null,
   "metadata": {},
   "outputs": [],
   "source": [
    "# PROCESO DE LIMPIEZA DE LOS DATAFRAME:"
   ]
  },
  {
   "cell_type": "code",
   "execution_count": null,
   "metadata": {},
   "outputs": [],
   "source": [
    "# IMPORTO CSV DE EPDATA-> EVOLUCION DEL AGUA DISPONIBLE EN ESPAÑA\n",
    "df1 = pd.read_csv ('Data/evolucion_del_agua_disponible_en_españa.csv', sep= ';', thousands= '.' )\n",
    "df1.shape()"
   ]
  },
  {
   "cell_type": "code",
   "execution_count": null,
   "metadata": {},
   "outputs": [],
   "source": [
    "# COMPRUEBO LA INFORMACION\n",
    "df1.info()"
   ]
  },
  {
   "cell_type": "code",
   "execution_count": null,
   "metadata": {},
   "outputs": [],
   "source": [
    "#ELIMINO LAS FILAS DEL CSV QUE NO TIENEN DATOS\n",
    "\n",
    "df1_1 = df1.drop(df1.index[17:],axis= 0)\n",
    "df1_1.drop ('Periodo',axis=1, inplace= True)"
   ]
  },
  {
   "cell_type": "code",
   "execution_count": null,
   "metadata": {},
   "outputs": [],
   "source": [
    "# CONVIERTO LA COLUMNA AÑO EN FECHA\n",
    "df1_1['Año'] = pd.to_datetime(df1_1['Año'])"
   ]
  },
  {
   "cell_type": "code",
   "execution_count": null,
   "metadata": {},
   "outputs": [],
   "source": [
    "# DOY FORMATO INT A LAS DOS COLUMNAS\n",
    "df1_1['No potabilizada'].astype(int)\n",
    "df1_1['Para su potabilización'].astype(int)\n",
    "    "
   ]
  },
  {
   "cell_type": "code",
   "execution_count": null,
   "metadata": {},
   "outputs": [],
   "source": [
    "# NORAMLIZO LOS TADOS PARA PODER TENER LAS MISMAS METRICAS QUE EN EL DATAFRAME DEL CONSUMO DE AGUA POR TIPO DE INDUSTRIA\n",
    "\n",
    "df1_1['Para su potabilización'] = df1_1['Para su potabilización'].apply(lambda x: ((x*10**3)/10**8))\n",
    "df1_1['Para su potabilización']"
   ]
  },
  {
   "cell_type": "code",
   "execution_count": null,
   "metadata": {},
   "outputs": [],
   "source": [
    "# NORAMLIZO LOS TADOS PARA PODER TENER LAS MISMAS METRICAS QUE EN EL DATAFRAME DEL CONSUMO DE AGUA POR TIPO DE INDUSTRIA\n",
    "\n",
    "df1_1['No potabilizada'] = df1_1['No potabilizada'].apply(lambda x: ((x*10**3)/10**8))\n"
   ]
  },
  {
   "cell_type": "code",
   "execution_count": null,
   "metadata": {},
   "outputs": [],
   "source": [
    "#RENOMBRO LAS COLUMNAS CON LA METRICA QUE ESTOY UTILIZANDO\n",
    "df1_1 = df1_1.rename(columns= {'No potabilizada' : 'No potabilizada Valor 10^9m3/año', 'Para su potabilización' : 'Para su potabilización 10^9m3/año'})"
   ]
  },
  {
   "cell_type": "code",
   "execution_count": null,
   "metadata": {},
   "outputs": [],
   "source": [
    "# CALCULO EL TOTAL DEL AGUA POR AÑO Y LO AÑADO A LA COLUMNA QUE CREO \n",
    "df1_1['Total Agua']= df1_1['No potabilizada Valor 10^9m3/año']+ df1_1['Para su potabilización 10^9m3/año']\n"
   ]
  },
  {
   "cell_type": "code",
   "execution_count": null,
   "metadata": {},
   "outputs": [],
   "source": [
    "#GUARDO EL CSV NORMALIZADO\n",
    "df1_1.to_csv('Data/evolucion_del_agua_disponible_en_españa_normalizado.csv', sep= ';', index= False)"
   ]
  },
  {
   "cell_type": "code",
   "execution_count": null,
   "metadata": {},
   "outputs": [],
   "source": [
    "#IMPORTO EL GRAFICO DE FAO -> CONSUMO DE AGUA POR SECTOR\n",
    "df2 = pd.read_csv ('Data/Extraccion de agua total por sector en Espana.csv', sep= ',', index_col= False)\n"
   ]
  },
  {
   "cell_type": "code",
   "execution_count": null,
   "metadata": {},
   "outputs": [],
   "source": [
    "#VEO LA INFORMACION QUE HAY\n",
    "df2.head(50)"
   ]
  },
  {
   "cell_type": "code",
   "execution_count": null,
   "metadata": {},
   "outputs": [],
   "source": [
    "#COMPRUEBO LOS TIPOS\n",
    "df2.info()"
   ]
  },
  {
   "cell_type": "code",
   "execution_count": null,
   "metadata": {},
   "outputs": [],
   "source": [
    "#ELIMINO LAS FILAS DEL CSV QUE NO TIENEN DATOS Y LOS AÑOS QUE NO ME INTERESAN, ADEMÁS DE ELIMNINAR LAS COLUMNAS QUE NO ME INTERESA Y RENOMBRAR LAS QUE QUIERO RENOMBRAR\n",
    "df2_1 = df2.drop(df2.index[0:1],axis= 0)\n",
    "df2_1 = df2_1.drop(df2_1.index[27:],axis= 0)\n",
    "df2_1 = df2_1.drop(df2_1.index[6:7],axis= 0)\n",
    "df2_1 = df2_1.drop(df2_1.index[12:13],axis= 0)\n",
    "df2_1 = df2_1.drop(df2_1.index[18:19],axis= 0)\n",
    "df2_1.reset_index(inplace=True, drop=True)# despues de eliminar la primera fila, reseteo el index y dejamos la misma columna inicial del indice\n",
    "\n",
    "df2_1.drop (['Area','Area Id','Variable Id','Symbol','Md'],axis=1, inplace= True)\n",
    "df2_1 = df2_1.rename(columns= {'Variable Name' :'Uso', 'Year' : 'Año', 'Value' : 'Valor 10^9m3/año' })"
   ]
  },
  {
   "cell_type": "code",
   "execution_count": null,
   "metadata": {},
   "outputs": [],
   "source": [
    "#PASO A INT LA COLUMNA AÑO\n",
    "df2_1['Año'] = df2_1['Año'].astype(int)"
   ]
  },
  {
   "cell_type": "code",
   "execution_count": null,
   "metadata": {},
   "outputs": [],
   "source": [
    "# COMO LA INFORMACION APARECE DE 5 EN 5 AÑOS, TENGO QUE AÑADIR LOS AÑOS QUE NO APARECEN\n",
    "# EL CALCULO ESTÁ BASADO EN LA DIFERENCIA ENTRE UN AÑO, EL ANTERIOR Y LA DIFERENCIA DIVIDIDA ENTRE 5, PARA CADA SECTOR:"
   ]
  },
  {
   "cell_type": "code",
   "execution_count": null,
   "metadata": {},
   "outputs": [],
   "source": [
    "#ESTO YA FUNCION PARA EXTRACCION DE AGUA AGRICOLA PARA TODOS LOS AÑOS\n",
    "filtro = df2_1['Uso'].isin(['Extracción de agua agrícola'])\n",
    "extrac_agri_df = df2_1[filtro]\n",
    "\n",
    "\n",
    "# con esto extraigo los valores de los años, desde el principio hasta el final\n",
    "lista_datos_valor_df = [] # esta lista va a contener los valores de la columna valor del dataframe\n",
    "for a in list(range(len(extrac_agri_df))):\n",
    "    lista_datos_valor_df.append(extrac_agri_df.iloc[a][2])\n",
    "    \n",
    "#print(lista_datos_valor_df)\n",
    "\n",
    "lista_valores_a_sumar = [] # esta lista va a contener el valor que hay que sumar a cada año nuevo que se añade\n",
    "\n",
    "for a in list(range(len(lista_datos_valor_df)-1)):\n",
    "    lista_valores_a_sumar.append((lista_datos_valor_df[a+1]-lista_datos_valor_df[a])/5)\n",
    "\n",
    "lista_a_añadir_df = []# esta va a ser la lista final, con los valores a añadir por cada año a añadir\n",
    "\n",
    "for valordf in list(range(len(lista_datos_valor_df)-1)):\n",
    "    lista_valores_años_nuevos = []# lista intermedia que guarda los valore por cada vuelta de grupo nuevo de años \n",
    "    lista_valores_años_nuevos.append(extrac_agri_df.iloc[valordf][2])\n",
    "        \n",
    "    for a in list(range(5)):   \n",
    "        \n",
    "        lista_valores_años_nuevos.append(lista_valores_años_nuevos[a]+lista_valores_a_sumar[valordf]) \n",
    "        valor_año_nuevo = lista_valores_años_nuevos[a]+lista_valores_a_sumar[a]\n",
    "\n",
    "    lista_valores_años_nuevos.pop(0)\n",
    "    lista_valores_años_nuevos.pop(len(lista_valores_años_nuevos)-1)\n",
    "    lista_a_añadir_df.append(lista_valores_años_nuevos)\n",
    "\n",
    "lista_a_añadir_df.pop(len(lista_a_añadir_df)-1)\n",
    "\n",
    " \n",
    " #CONVIERTO EL ARRAY DE DOS DIMENSIONES DE LOS AÑOS NUEVOS A AÑADIR-> lista_a_añadir_df EN UNA LISTA \n",
    "lista_nueva_valor = []\n",
    "for indice in list(range(len(lista_a_añadir_df))):\n",
    "    for subindice in list(range(len(lista_a_añadir_df[indice]))):\n",
    "        lista_nueva_valor.append(lista_a_añadir_df[indice][subindice])\n",
    "        \n",
    "#AÑADO LA LISTA DE LOS AÑOS Y LA NUEVA LISTA OBTENIDA DEL ARRAY DE DOS DIMENSIONES EN EL DATAFRAM DF2_1\n",
    "\n",
    "\n",
    "lista_años_nuevos = [1998,1999,2000,2001,2003,2004,2005,2006,2008,2009,2010,2011,2013,2014,2015,2016]\n",
    "\n",
    "for indice in list(range(len(lista_nueva_valor))):\n",
    "    df2_1.loc[len(df2_1)] =  ['Extracción de agua agrícola', lista_años_nuevos[indice], lista_nueva_valor[indice]]"
   ]
  },
  {
   "cell_type": "code",
   "execution_count": null,
   "metadata": {},
   "outputs": [],
   "source": [
    "#ESTO YA FUNCION PARA EXTRACCION DE AGUA INSTURIAL PARA TODOS LOS AÑOS\n",
    "filtro = df2_1['Uso'].isin(['Extracción de agua industrial'])\n",
    "extrac_agri_df = df2_1[filtro]\n",
    "\n",
    "# con esto extraigo los valores de los años, desde el principio hasta el final\n",
    "lista_datos_valor_df = [] # esta lista va a contener los valores de la columna valor del dataframe\n",
    "for a in list(range(len(extrac_agri_df))):\n",
    "    lista_datos_valor_df.append(extrac_agri_df.iloc[a][2])\n",
    "    \n",
    "\n",
    "lista_valores_a_sumar = [] # esta lista va a contener el valor que hay que sumar a cada año nuevo que se añade\n",
    "\n",
    "for a in list(range(len(lista_datos_valor_df)-1)):\n",
    "    lista_valores_a_sumar.append((lista_datos_valor_df[a+1]-lista_datos_valor_df[a])/5)\n",
    "\n",
    "lista_a_añadir_df = []# esta va a ser la lista final, con los valores a añadir por cada año a añadir\n",
    "\n",
    "for valordf in list(range(len(lista_datos_valor_df)-1)):\n",
    "    lista_valores_años_nuevos = []# lista intermedia que guarda los valore por cada vuelta de grupo nuevo de años \n",
    "    lista_valores_años_nuevos.append(extrac_agri_df.iloc[valordf][2])\n",
    "        \n",
    "    for a in list(range(5)):   \n",
    "        # print ('printeamos vuelta del bucle for (a): ', a) \n",
    "        \n",
    "        lista_valores_años_nuevos.append(lista_valores_años_nuevos[a]+lista_valores_a_sumar[valordf]) \n",
    "        valor_año_nuevo = lista_valores_años_nuevos[a]+lista_valores_a_sumar[a]\n",
    "\n",
    "    lista_valores_años_nuevos.pop(0)\n",
    "    lista_valores_años_nuevos.pop(len(lista_valores_años_nuevos)-1)\n",
    "    lista_a_añadir_df.append(lista_valores_años_nuevos)\n",
    "\n",
    "lista_a_añadir_df.pop(len(lista_a_añadir_df)-1)\n",
    "\n",
    "    \n",
    " #CONVIERTO EL ARRAY DE DOS DIMENSIONES DE LOS AÑOS NUEVOS A AÑADIR-> lista_a_añadir_df EN UNA LISTA \n",
    "lista_nueva_valor = []\n",
    "for indice in list(range(len(lista_a_añadir_df))):\n",
    "    for subindice in list(range(len(lista_a_añadir_df[indice]))):\n",
    "        lista_nueva_valor.append(lista_a_añadir_df[indice][subindice])\n",
    "        \n",
    "#AÑADO LA LISTA DE LOS AÑOS Y LA NUEVA LISTA OBTENIDA DEL ARRAY DE DOS DIMENSIONES EN EL DATAFRAM DF2_1\n",
    "\n",
    "\n",
    "lista_años_nuevos = [1998,1999,2000,2001,2003,2004,2005,2006,2008,2009,2010,2011,2013,2014,2015,2016]\n",
    "\n",
    "for indice in list(range(len(lista_nueva_valor))):\n",
    "    df2_1.loc[len(df2_1)] =  ['Extracción de agua industrial', lista_años_nuevos[indice], lista_nueva_valor[indice]]   "
   ]
  },
  {
   "cell_type": "code",
   "execution_count": null,
   "metadata": {},
   "outputs": [],
   "source": [
    "#ESTO YA FUNCION PARA EXTRACCION DE AGUA MUNICIPAL PARA TODOS LOS AÑOS\n",
    "filtro = df2_1['Uso'].isin(['Extracción de agua municipal'])\n",
    "extrac_agri_df = df2_1[filtro]\n",
    "\n",
    "# con esto extraigo los valores de los años, desde el principio hasta el final\n",
    "lista_datos_valor_df = [] # esta lista va a contener los valores de la columna valor del dataframe\n",
    "for a in list(range(len(extrac_agri_df))):\n",
    "    lista_datos_valor_df.append(extrac_agri_df.iloc[a][2])\n",
    "    \n",
    "\n",
    "lista_valores_a_sumar = [] # esta lista va a contener el valor que hay que sumar a cada año nuevo que se añade\n",
    "\n",
    "for a in list(range(len(lista_datos_valor_df)-1)):\n",
    "    lista_valores_a_sumar.append((lista_datos_valor_df[a+1]-lista_datos_valor_df[a])/5)\n",
    "\n",
    "lista_a_añadir_df = []# esta va a ser la lista final, con los valores a añadir por cada año a añadir\n",
    "\n",
    "for valordf in list(range(len(lista_datos_valor_df)-1)):\n",
    "    lista_valores_años_nuevos = []# lista intermedia que guarda los valore por cada vuelta de grupo nuevo de años \n",
    "    lista_valores_años_nuevos.append(extrac_agri_df.iloc[valordf][2])\n",
    "        \n",
    "    for a in list(range(5)):   \n",
    "        \n",
    "        lista_valores_años_nuevos.append(lista_valores_años_nuevos[a]+lista_valores_a_sumar[valordf]) \n",
    "        valor_año_nuevo = lista_valores_años_nuevos[a]+lista_valores_a_sumar[a]\n",
    "\n",
    "    lista_valores_años_nuevos.pop(0)\n",
    "    lista_valores_años_nuevos.pop(len(lista_valores_años_nuevos)-1)\n",
    "    lista_a_añadir_df.append(lista_valores_años_nuevos)\n",
    "\n",
    "lista_a_añadir_df.pop(len(lista_a_añadir_df)-1)\n",
    "\n",
    "    \n",
    "    \n",
    " #CONVIERTO EL ARRAY DE DOS DIMENSIONES DE LOS AÑOS NUEVOS A AÑADIR-> lista_a_añadir_df EN UNA LISTA \n",
    "lista_nueva_valor = []\n",
    "for indice in list(range(len(lista_a_añadir_df))):\n",
    "    for subindice in list(range(len(lista_a_añadir_df[indice]))):\n",
    "        lista_nueva_valor.append(lista_a_añadir_df[indice][subindice])\n",
    "        \n",
    "#AÑADO LA LISTA DE LOS AÑOS Y LA NUEVA LISTA OBTENIDA DEL ARRAY DE DOS DIMENSIONES EN EL DATAFRAM DF2_1\n",
    "\n",
    "\n",
    "lista_años_nuevos = [1998,1999,2000,2001,2003,2004,2005,2006,2008,2009,2010,2011,2013,2014,2015,2016]\n",
    "\n",
    "for indice in list(range(len(lista_nueva_valor))):\n",
    "    df2_1.loc[len(df2_1)] =  ['Extracción de agua municipal', lista_años_nuevos[indice], lista_nueva_valor[indice]]  "
   ]
  },
  {
   "cell_type": "code",
   "execution_count": null,
   "metadata": {},
   "outputs": [],
   "source": [
    "#ESTO YA FUNCION PARA EXTRACCION DE AGUA SUMA TODOS LOS SECTORES PARA TODOS LOS AÑOS\n",
    "\n",
    "filtro = df2_1['Uso'].isin(['Extraccion total de agua (suma de sectores)'])\n",
    "extrac_agri_df = df2_1[filtro]\n",
    "\n",
    "\n",
    "# con esto extraigo los valores de los años, desde el principio hasta el final\n",
    "lista_datos_valor_df = [] # esta lista va a contener los valores de la columna valor del dataframe\n",
    "for a in list(range(len(extrac_agri_df))):\n",
    "    lista_datos_valor_df.append(extrac_agri_df.iloc[a][2])\n",
    "    \n",
    "\n",
    "lista_valores_a_sumar = [] # esta lista va a contener el valor que hay que sumar a cada año nuevo que se añade\n",
    "\n",
    "for a in list(range(len(lista_datos_valor_df)-1)):\n",
    "    lista_valores_a_sumar.append((lista_datos_valor_df[a+1]-lista_datos_valor_df[a])/5)\n",
    "\n",
    "lista_a_añadir_df = []# esta va a ser la lista final, con los valores a añadir por cada año a añadir\n",
    "\n",
    "for valordf in list(range(len(lista_datos_valor_df)-1)):\n",
    "    lista_valores_años_nuevos = []# lista intermedia que guarda los valore por cada vuelta de grupo nuevo de años \n",
    "    lista_valores_años_nuevos.append(extrac_agri_df.iloc[valordf][2])\n",
    "        \n",
    "    for a in list(range(5)):   \n",
    "            \n",
    "        lista_valores_años_nuevos.append(lista_valores_años_nuevos[a]+lista_valores_a_sumar[valordf]) \n",
    "        valor_año_nuevo = lista_valores_años_nuevos[a]+lista_valores_a_sumar[a]\n",
    "\n",
    "    lista_valores_años_nuevos.pop(0)\n",
    "    lista_valores_años_nuevos.pop(len(lista_valores_años_nuevos)-1)\n",
    "    lista_a_añadir_df.append(lista_valores_años_nuevos)\n",
    "\n",
    "lista_a_añadir_df.pop(len(lista_a_añadir_df)-1)\n",
    "\n",
    "\n",
    "#CONVIERTO EL ARRAY DE DOS DIMENSIONES DE LOS AÑOS NUEVOS A AÑADIR-> lista_a_añadir_df EN UNA LISTA \n",
    "lista_nueva_valor = []\n",
    "for indice in list(range(len(lista_a_añadir_df))):\n",
    "    for subindice in list(range(len(lista_a_añadir_df[indice]))):\n",
    "        lista_nueva_valor.append(lista_a_añadir_df[indice][subindice])\n",
    "        \n",
    "#AÑADO LA LISTA DE LOS AÑOS Y LA NUEVA LISTA OBTENIDA DEL ARRAY DE DOS DIMENSIONES EN EL DATAFRAM DF2_1\n",
    "\n",
    "\n",
    "lista_años_nuevos = [1998,1999,2000,2001,2003,2004,2005,2006,2008,2009,2010,2011,2013,2014,2015,2016]\n",
    "\n",
    "for indice in list(range(len(lista_nueva_valor))):\n",
    "    df2_1.loc[len(df2_1)] =  ['Extraccion total de agua (suma de sectores)', lista_años_nuevos[indice], lista_nueva_valor[indice]]\n"
   ]
  },
  {
   "cell_type": "code",
   "execution_count": null,
   "metadata": {},
   "outputs": [],
   "source": [
    "#AHORA ELIMINO LOS AÑOS QUE NO ME INTERESAN\n",
    "\n",
    "mask = df2_1[df2_1['Año'].isin([1997,1998,1999])].index\n",
    "df2_1 = df2_1.drop(mask)"
   ]
  },
  {
   "cell_type": "code",
   "execution_count": null,
   "metadata": {},
   "outputs": [],
   "source": [
    "df2_1.reset_index(inplace=True, drop=True)# despues de eliminar la primera fila, reseteo el index y dejamos la misma columna inicial del indice"
   ]
  },
  {
   "cell_type": "code",
   "execution_count": null,
   "metadata": {},
   "outputs": [],
   "source": [
    "#ORDENO LOS VALORES POR AÑO Y USO\n",
    "\n",
    "df2_1 =df2_1.sort_values(by=['Uso', 'Año'])"
   ]
  },
  {
   "cell_type": "code",
   "execution_count": null,
   "metadata": {},
   "outputs": [],
   "source": [
    "#GUARDO EL DATAFRAM NORMALIZADO\n",
    "df2_1.to_csv('Data/Extraccion de agua total por sector en Espana_normalizado.csv', sep= ';', index= False)"
   ]
  },
  {
   "cell_type": "code",
   "execution_count": null,
   "metadata": {},
   "outputs": [],
   "source": [
    "# IMPORTO CSV DE FAO-> CULTIVOS Y DERIVADOS\n",
    "\n",
    "df5 = pd.read_csv ('Data/Cultivos y derivados.csv', sep= ',',thousands= '.')\n",
    "df5.info()"
   ]
  },
  {
   "cell_type": "code",
   "execution_count": null,
   "metadata": {},
   "outputs": [],
   "source": [
    "# COMPRUEBO LOS VALORES NAN, SON PRODUCTOS QUE REALMNETE TIENEN VALOR 0\n",
    "df5[df5['Valor'].isna()]"
   ]
  },
  {
   "cell_type": "code",
   "execution_count": null,
   "metadata": {},
   "outputs": [],
   "source": [
    "# ELIMINO LOS NAN PORQUE SE TRATA DE PRODUCTOS QUE PARECE NO TENER PRODUCCCION\n",
    "indice=df5[df5['Valor'].isna()].index\n",
    "\n",
    "df5.drop(indice, inplace= True)"
   ]
  },
  {
   "cell_type": "code",
   "execution_count": null,
   "metadata": {},
   "outputs": [],
   "source": [
    "#RESETEO EL INDICE\n",
    "\n",
    "df5.reset_index(inplace=True, drop=True)\n",
    "df5"
   ]
  },
  {
   "cell_type": "code",
   "execution_count": null,
   "metadata": {},
   "outputs": [],
   "source": [
    "# AÑADO LA COLUMNA GRUPO PRODUCTOS\n",
    "df5['Grupo productos'] = 'Cultivos y derivados'\n"
   ]
  },
  {
   "cell_type": "code",
   "execution_count": null,
   "metadata": {},
   "outputs": [],
   "source": [
    "# IMPORTO CSV DE FAO-> GANADERIA PRIMARIA Y PROCESADA\n",
    "df6 = pd.read_csv ('AGUA/FAOSTAT/Ganaderia primaria y procesada1.csv', sep= ',', thousands= '.')"
   ]
  },
  {
   "cell_type": "code",
   "execution_count": null,
   "metadata": {},
   "outputs": [],
   "source": [
    "# ELIMINO LOS VALORES NAN DEL DATAFAME PORQUE NO SON RELEVANTES\n",
    "\n",
    "indice=df6[df6['Valor'].isna()].index\n",
    "\n",
    "df6.drop(indice, inplace= True)"
   ]
  },
  {
   "cell_type": "code",
   "execution_count": null,
   "metadata": {},
   "outputs": [],
   "source": [
    "#AÑADO LA COLUMNA GRUPO PRODUCTOS\n",
    "df6['Grupo productos'] = 'Ganadería primaria y procesada'"
   ]
  },
  {
   "cell_type": "code",
   "execution_count": null,
   "metadata": {},
   "outputs": [],
   "source": [
    "#COMPRUEBO LOS VALORES QUE HAY EN UNIDADES PARA ELIMINAR LO QUE NO SEAN TONELADAS\n",
    "df6['Unidad'].unique()"
   ]
  },
  {
   "cell_type": "code",
   "execution_count": null,
   "metadata": {},
   "outputs": [],
   "source": [
    "#PROCEDO A ELIMINAR LO QUE NO SON TONELADAS\n",
    "indice=df6[df6['Unidad'].isin(['1000 No.'])].index\n",
    "indice"
   ]
  },
  {
   "cell_type": "code",
   "execution_count": null,
   "metadata": {},
   "outputs": [],
   "source": [
    "# RESETEO EL INDICE Y COMPRUEBO\n",
    "df6.reset_index (inplace=True, drop=True)\n",
    "\n",
    "df6"
   ]
  },
  {
   "cell_type": "code",
   "execution_count": null,
   "metadata": {},
   "outputs": [],
   "source": [
    "# HAGO UNA COPIA DEL DATAFRAME 5 PARA TRABAJAR SOBRE ESTE NUEVO\n",
    "\n",
    "df7 = df5.copy()"
   ]
  },
  {
   "cell_type": "code",
   "execution_count": null,
   "metadata": {},
   "outputs": [],
   "source": [
    "#INCORPORO EL DATAFRAME 6 EN EL 7 PARA PODER TRABAJAR CON LOS DATOS EN UN MISMO DATAFRAME\n",
    "\n",
    "for indice in list(range(len(df6))):\n",
    "    df7.loc[len(df7)] =  df6.loc[indice]\n"
   ]
  },
  {
   "cell_type": "code",
   "execution_count": null,
   "metadata": {},
   "outputs": [],
   "source": [
    "#COMPRUEBO LOS AÑOS YA QUE SOLO QUIERO QUEDARME CON LA INFO HASTA EL 2018\n",
    "df7['Año'].unique()"
   ]
  },
  {
   "cell_type": "code",
   "execution_count": null,
   "metadata": {},
   "outputs": [],
   "source": [
    "# ELIMINO LOS AÑOS DEL 2019 AL 2020 Y COMPRUEBO\n",
    "\n",
    "indice=df7[df7['Año'].isin([2019,2020])].index\n",
    "indice\n",
    "\n",
    "df7.drop(indice, inplace= True)"
   ]
  },
  {
   "cell_type": "code",
   "execution_count": null,
   "metadata": {},
   "outputs": [],
   "source": [
    "#RESETEO EL INDICE DESPUES DE HABER ELIMINADO LOS AÑOS 2019 Y 2020\n",
    "df7.reset_index (inplace=True, drop=True)"
   ]
  },
  {
   "cell_type": "code",
   "execution_count": null,
   "metadata": {},
   "outputs": [],
   "source": [
    "# PROCEDO A GUARDARLO\n",
    "df7.to_csv('Data/Cultivos y ganaderia_normalizado.csv', sep= ';', index= False)"
   ]
  },
  {
   "cell_type": "code",
   "execution_count": null,
   "metadata": {},
   "outputs": [],
   "source": [
    "# PROCESO DE CREACION DE LOS GRAFICOS:"
   ]
  },
  {
   "cell_type": "code",
   "execution_count": null,
   "metadata": {},
   "outputs": [],
   "source": [
    "\n",
    "import seaborn as sns\n",
    "import matplotlib.pyplot as plt\n",
    "\n",
    "import os\n",
    "os.getcwd()"
   ]
  },
  {
   "cell_type": "code",
   "execution_count": null,
   "metadata": {},
   "outputs": [],
   "source": [
    "#CREACION DE GRAFICOS SOBRE EL DATAFRAM DF1\n",
    "\n",
    "df1 = pd.read_csv ('AGUA/EPDATA/evolucion_del_agua_disponible_en_españa_normalizado.csv', sep= ';' )\n",
    "df1['Año'] = pd.to_datetime(df1['Año'])"
   ]
  },
  {
   "cell_type": "code",
   "execution_count": null,
   "metadata": {},
   "outputs": [],
   "source": [
    "#GRAFICO DONDE SE MUESTRA LA EVOLUCION EN LOS AÑOS DEL AGUA TOTAL EN ESPAÑA\n",
    "\n",
    "grafic_evo_agua_total = plt.figure(figsize=(12,7))\n",
    "plt.style.use('dark_background')\n",
    "plt.axes()# definimos los axes\n",
    "plt.plot(df1[\"Año\"],df1[\"Total Agua\"], 'o-w', alpha = 0.7,label= 'Agua total', linewidth= 7, snap= True) # le decimos que pinte con plot, las lineas definidas dentro de la funcion con el valor de x y el de y\n",
    "plt.ylim(80,115)\n",
    "plt.xlabel ('Año', size= 15)\n",
    "plt.ylabel ('10^9 m3/año', size= 15)\n",
    "plt.title ('Evolución del agua disponible en España', fontdict= {'color': 'white', 'weight': 'bold', 'size': 18 }, loc= 'center', alpha = 0.7, pad=20)\n",
    "plt.grid (False)"
   ]
  },
  {
   "cell_type": "code",
   "execution_count": null,
   "metadata": {},
   "outputs": [],
   "source": [
    "#GRAFICO DONDE SE MUESTRA LA EVOLUCION EN LOS AÑOS DEL AGUA DISPONIBLE EN ESPAÑA\n",
    "grafic_evo_tipos_agua = plt.figure(figsize=(12,7))\n",
    "plt.style.use('dark_background')\n",
    "plt.axes()# definimos los axes\n",
    "plt.plot(df1[\"Año\"],df1[\"No potabilizada Valor 10^9m3/año\"], '--g', label= 'No potabilizada', linewidth= 4, snap= True) # le decimos que pinte con plot, las lineas definidas dentro de la funcion con el valor de x y el de y\n",
    "plt.plot(df1[\"Año\"],df1[\"Para su potabilización 10^9m3/año\"], '--c', label= 'Para su potabilización', linewidth = 4, snap = True)# y aqui dentro es donde fijamos los valores de los ejes, de las etiquetas y del titulo\n",
    "\n",
    "plt.xlabel ('Año', size= 15)\n",
    "plt.ylabel ('10^9 m3/año', size= 15)\n",
    "plt.title ('Evolución del agua disponible en España', fontdict= {'color': 'white', 'weight': 'bold', 'size': 18 }, loc= 'center', alpha=0.7, pad=20)\n",
    "plt.grid (False)\n",
    "plt.legend()"
   ]
  },
  {
   "cell_type": "code",
   "execution_count": null,
   "metadata": {},
   "outputs": [],
   "source": [
    "# HAGO UN SET_INDEX Y A CONTINUACION UN DESCRIBE PARA COMPROBAR LOS MAXIMOS Y MINIMOS Y HACER LA COMPARACION ENTRE ELLOS Y PODER PRESENTARLA EN UN GRAFICO\n",
    "df1_1 = df1.set_index('Año')\n",
    "df1_1.describe()"
   ]
  },
  {
   "cell_type": "code",
   "execution_count": null,
   "metadata": {},
   "outputs": [],
   "source": [
    "# ALMACENO EL MAXIMO Y MINMO EN DOS VARIABLES PARA GRAFICARLOS\n",
    "\n",
    "data_min = df1[['No potabilizada Valor 10^9m3/año','Para su potabilización 10^9m3/año']].min()\n",
    "data_max = df1[['No potabilizada Valor 10^9m3/año','Para su potabilización 10^9m3/año']].max()"
   ]
  },
  {
   "cell_type": "code",
   "execution_count": null,
   "metadata": {},
   "outputs": [],
   "source": [
    "# GENERO UN SUBPLOT Y ASI LOS MUESTRO EN LA MISMA IMAGEN\n",
    "\n",
    "graf_comp_max_min=plt.figure(figsize=(15,7))\n",
    "plt.style.use('dark_background')\n",
    "plt.subplot(1,2,1)\n",
    "\n",
    "\n",
    "colores = ('#9ACD32', '#87CEEB')\n",
    "\n",
    "plt.pie(data_min.values,\n",
    "        labels=data_min.index,\n",
    "        autopct='%1.2f%%',\n",
    "        colors= colores, shadow = True, startangle= 20, textprops= {'fontsize':15})\n",
    "plt.title('Máximo. Año 2004',fontsize = 15 )\n",
    "\n",
    "plt.subplot(1,2,2)\n",
    "\n",
    "plt.pie(data_max.values,\n",
    "        labels=data_max.index,\n",
    "        autopct='%1.2f%%',\n",
    "        colors= colores, shadow = True, startangle= 20,textprops= {'fontsize':15})\n",
    "plt.title('Mínimo. Año 2018',fontsize = 15)\n",
    "\n",
    "plt.show();\n"
   ]
  },
  {
   "cell_type": "code",
   "execution_count": null,
   "metadata": {},
   "outputs": [],
   "source": [
    "# AHORA SACAMOS LA DIFERENCIA DEL TOTAL DE AGUA DISPONIBLE A NIVEL PORCENTUAL ENTRE EL EL MAXIMO Y EL MÍNIMO PARA PODER VER CUANTO A DISMINUIDO\n",
    "# TAMBIEN SACAMOS LA DIFERENCIA DEL AGUA POTABLE A NIVEL PORCENTUAL ENTRE EL MAXIMO Y EL MÍNIMO PARA PODER COMPARAR ESTE PORCENTAJE Y EL OTRO\n",
    "#Y DE ESTA MANERA VER SI ESTAMOS CONSUMIENDO MAS AGUA AUNQUE HAYA DECRECIDO\n",
    "\n",
    "\n",
    "#       No potabilizada Valor 10^9m3/año\tPara su potabilización 10^9m3/año\t               %SOBRE EL DE LAS DIFERENCIAS        Total Agua\n",
    "\n",
    "\n",
    "# min\t38.757420\t                        47.697090\t                                         55,170152%                          86.454510\n",
    "\n",
    "#DIF                                       -13.16856                                            -54,97322 %                          23,9545\n",
    "\n",
    "#DIF %%!                               UN  21,63545%  MENOS DE AGUA PARA SU POTABILIZACION                                          UN 21,69615% MENOS DE AGUA TOTAL\n",
    "\n",
    "# max\t49.543360\t                        60.865650\t                                         55,12743% %                         110.409010"
   ]
  },
  {
   "cell_type": "code",
   "execution_count": null,
   "metadata": {},
   "outputs": [],
   "source": [
    "#GUARDO LOS TRES GRAFICOS \n",
    "\n",
    "grafic_evo_agua_total.savefig('Graficos/Grafico_agua_total_disponible.png')\n",
    "grafic_evo_tipos_agua.savefig('Graficos/Grafico_evo_tipos_agua.png')\n",
    "graf_comp_max_min.savefig('Graficos/Grafico_comp_max_min.png')"
   ]
  },
  {
   "cell_type": "code",
   "execution_count": null,
   "metadata": {},
   "outputs": [],
   "source": [
    "#CREACION DE GRAFICOS SOBRE EL DATAFRAM DF2\n",
    "\n",
    "df2 = pd.read_csv ('Data/Extraccion de agua total por sector en Espana_normalizado.csv', sep= ';', index_col= False)"
   ]
  },
  {
   "cell_type": "code",
   "execution_count": null,
   "metadata": {},
   "outputs": [],
   "source": [
    "# EXTRAIGO LOS DATOS DE CADA SECTOR EN UN DATAFRAME Y LOS GRAFICO PARA PODER VER LA COMPARACION DE LOS DIFERENTES CONSUMOS\n",
    "\n",
    "df2_agricultura = df2[df2['Uso']=='Extracción de agua agrícola']\n",
    "df2_industrial = df2[df2['Uso']=='Extracción de agua industrial']\n",
    "df2_municipal = df2[df2['Uso']=='Extracción de agua municipal']"
   ]
  },
  {
   "cell_type": "code",
   "execution_count": null,
   "metadata": {},
   "outputs": [],
   "source": [
    "# UTILIZO UN PLOT PARA GRAFICAR LOS TRES. \n",
    "\n",
    "\n",
    "grafic_consu_por_tipos = plt.figure(figsize=(12,7))\n",
    "plt.style.use('dark_background')\n",
    "plt.axes()# definimos los axes\n",
    "plt.plot(df2_agricultura[\"Año\"],df2_agricultura[\"Valor 10^9m3/año\"], 'r-X', label= 'Agrícola', linewidth= 2, snap= True ) # le decimos que pinte con plot, las lineas definidas dentro de la funcion con el valor de x y el de y\n",
    "plt.plot(df2_industrial[\"Año\"],df2_industrial[\"Valor 10^9m3/año\"], '-*', label= 'Industrial', linewidth = 2, snap = True)# y aqui dentro es donde fijamos los valores de los ejes, de las etiquetas y del titulo\n",
    "plt.plot(df2_municipal[\"Año\"],df2_municipal[\"Valor 10^9m3/año\"], '->', label= 'Municipal', linewidth = 2, snap = True) # y aqui dentro es donde fijamos los valores de los ejes, de las etiquetas y del titulo\n",
    "# plt.plot(df1[\"Año\"],df1[\"Total Agua\"], 'o-w', alpha = 0.7,label= 'Agua total', linewidth= 7, snap= True)\n",
    "plt.xlabel ('Año', size= 15)\n",
    "\n",
    "plt.ylabel ('10^9 m3/año', size= 15)\n",
    "plt.title ('Consumo por sector', fontdict= {'color': 'white', 'weight': 'bold', 'size': 16 }, loc= 'center', pad=20, alpha= 0.)\n",
    "plt.grid (False, alpha=0.1)\n",
    "plt.legend()"
   ]
  },
  {
   "cell_type": "code",
   "execution_count": null,
   "metadata": {},
   "outputs": [],
   "source": [
    "# AHORA VOY A GRAFICAR LOS MISMOS DATOS CON UN DIAGRAMA DE BARRAS APILADAS PARA QUE SE VEA CON CLARIDAD EL PESO DE CADA SECTOR\n",
    "\n",
    "anos = list(range(len(df2_agricultura['Año'])))\n",
    "indice= np.arange(len(anos))\n",
    "\n",
    "grafi_barras_acum_por_tipos_agua= plt.figure(figsize=(15,7))\n",
    "ancho_barras = 0.50\n",
    "\n",
    "\n",
    "plt.bar(indice, df2_agricultura['Valor 10^9m3/año'], label= 'Agricultura', width= ancho_barras,color= 'DarkOliveGreen', edgecolor= 'Gray')\n",
    "plt.bar(indice, df2_industrial['Valor 10^9m3/año'], width=ancho_barras, label='industrial', bottom= df2_agricultura['Valor 10^9m3/año'],color= 'Goldenrod', edgecolor ='Gray')\n",
    "plt.bar(indice, df2_municipal['Valor 10^9m3/año'], width=ancho_barras, label='municipal',bottom= np.array(df2_agricultura['Valor 10^9m3/año'])+np.array(df2_industrial['Valor 10^9m3/año']), color = 'DarkKhaki', edgecolor = 'Gray')\n",
    "plt.xticks(indice,df2_agricultura['Año'])\n",
    "plt.ylabel ('10^9 m3/año', size= 15)\n",
    "plt.title ('Consumo por sector', fontdict= {'color': 'white', 'weight': 'bold', 'size': 16 }, loc= 'center', pad=20, alpha= 0.)\n",
    "plt.grid (True, alpha=0.1)\n",
    "\n",
    "plt.legend()\n",
    "\n",
    "plt.show()"
   ]
  },
  {
   "cell_type": "code",
   "execution_count": null,
   "metadata": {},
   "outputs": [],
   "source": [
    "# QUIERO MOSTRAR EL PESO DEL CONSUMO AGRICULA DEL 2018 PARA QUE SE PUEDA VER CON MUCHA MAS CLARIDAD EL PORCENTAJE QUE SUPONE ASI QUE GUARDO LA INFO EN UNA VARIABLE\n",
    "\n",
    "data_2018 = df2[df2['Año']== 2018]\n",
    "data_2018.drop(data_2018.index[[0]], axis=0, inplace=True)"
   ]
  },
  {
   "cell_type": "code",
   "execution_count": null,
   "metadata": {},
   "outputs": [],
   "source": [
    "# UTILIZO UN PIE PARA QUE SE REPRESENTE CON CLARIDAD\n",
    "\n",
    "colores = ('DarkOliveGreen', 'Goldenrod', 'DarkKhaki')\n",
    "grafi_2018_cons_agri_total= plt.figure(figsize=(9,9))\n",
    "\n",
    "plt.pie(data_2018['Valor 10^9m3/año'],\n",
    "        autopct='%1.2f%%',\n",
    "        colors= colores, shadow = True, startangle= 20, textprops= {'fontsize':15})\n",
    "plt.title('Año 2018',fontsize = 15, loc= 'center')\n",
    "plt.legend(data_2018['Uso'],loc='upper right')\n",
    "\n",
    "plt.show();"
   ]
  },
  {
   "cell_type": "code",
   "execution_count": null,
   "metadata": {},
   "outputs": [],
   "source": [
    "# GUARDO LOS TRES GRAFICOS\n",
    "\n",
    "grafi_2018_cons_agri_total.savefig('grafico_2018_cons_agri_total.png')\n",
    "grafic_consu_por_tipos.savefig('Grafico_consu_por_tipos.png')\n",
    "grafi_barras_acum_por_tipos_agua.savefig('Grafico_barras_acum_por_tipos_Agua.png')"
   ]
  },
  {
   "cell_type": "code",
   "execution_count": null,
   "metadata": {},
   "outputs": [],
   "source": [
    "# CREACION DE GRAFICOS DF7\n",
    "\n",
    "df7 = pd.read_csv ('Data/Cultivos y ganaderia_normalizado.csv', sep= ';', index_col= False, thousands= '.')"
   ]
  },
  {
   "cell_type": "code",
   "execution_count": null,
   "metadata": {},
   "outputs": [],
   "source": [
    "# TENGO QUE SACAR LOS SUMATORIOS TOTALES POR AÑO Y POR GRUPO DE PRODUCTOS PARA PODER HACER LA GRAFICA DE LA PRODUCCION DE CADA SECTOR\n",
    "\n",
    "df7_copy = df7.copy()\n",
    "df7_copy = df7_copy[['Grupo productos','Año','Valor']]\n",
    "\n",
    "df7_copy_agrupado = df7_copy.groupby(['Grupo productos','Año']).sum()\n",
    "\n",
    "df7_copy_agrupado"
   ]
  },
  {
   "cell_type": "code",
   "execution_count": null,
   "metadata": {},
   "outputs": [],
   "source": [
    "#TENGO QUE CREAR UN DATAFRAME NUEVO PARA PODER HACER LA GRAFICA SOBRE ESTE\n",
    "diccionario = {'Grupo productos': [], 'Año': [], 'Valor': []}\n",
    "lista_años_nuevos = [2000,2001,2002,2003,2004,2005,2006,2007,2008,2009,2010,2011,2012,2013,2014,2015,2016,2017,2018]\n",
    "df7_sumatotalano_grupoproducto = pd.DataFrame(diccionario)\n",
    "df7_sumatotalano_grupoproducto"
   ]
  },
  {
   "cell_type": "code",
   "execution_count": null,
   "metadata": {},
   "outputs": [],
   "source": [
    "# VOY RELLENANDO LAS FILAS CON LA INFORMACION DEL DATA AGRUPADO PARA LA PARTE DE CULTIVOS Y DERIVADOS\n",
    "for indice in list(range(19)): # es decir por el valor del indice sobre el total de la longitud (38)\n",
    "                  df7_sumatotalano_grupoproducto.loc[len(df7_sumatotalano_grupoproducto)] = 'Cultivos y derivados' , lista_años_nuevos[indice], df7_copy_agrupado.iloc[indice][0]\n",
    "df7_sumatotalano_grupoproducto"
   ]
  },
  {
   "cell_type": "code",
   "execution_count": null,
   "metadata": {},
   "outputs": [],
   "source": [
    "# VOY RELLENANDO LAS FILAS CON LA INFORMACION DEL DATA AGRUPADO PARA LA PARTE DE PRODUCTOS DE GANADERIA\n",
    "for indice in list(range(19,20+18)): # es decir por el valor del indice sobre el total de la longitud (38)\n",
    "                  df7_sumatotalano_grupoproducto.loc[len(df7_sumatotalano_grupoproducto)] = 'Ganadería primaria y procesada', lista_años_nuevos[indice-19], df7_copy_agrupado.iloc[indice][0]\n",
    "df7_sumatotalano_grupoproducto"
   ]
  },
  {
   "cell_type": "code",
   "execution_count": null,
   "metadata": {},
   "outputs": [],
   "source": [
    "# COMPRUEBO\n",
    "df7_sumatotalano_grupoproducto"
   ]
  },
  {
   "cell_type": "code",
   "execution_count": null,
   "metadata": {},
   "outputs": [],
   "source": [
    "# DIVIDO LAS TONELADAS ENTRE 10^6\n",
    "df7_sumatotalano_grupoproducto['Valor'] = df7_sumatotalano_grupoproducto['Valor']/10**6\n",
    "df7_sumatotalano_grupoproducto"
   ]
  },
  {
   "cell_type": "code",
   "execution_count": null,
   "metadata": {},
   "outputs": [],
   "source": [
    "# SACO EL GRAFICO DE LA EVOLUCION DE LOS ALIMENTOS DURANTE LOS AÑOS PARA QUE SE PUEDA APRECIA QUE REALMENTE DENTRO DEL SECTOR DE LA AGRICULTURA, ESTA INCLUIDO LA \n",
    "#PRODUCCION DE PRODUCTOS GANDEROS\n",
    "\n",
    "graf_evo_grupo_produ = plt.figure(figsize=(20,9)) \n",
    "\n",
    "sns.barplot(x = 'Año', y = 'Valor', data = df7_sumatotalano_grupoproducto, hue = \"Grupo productos\", ci= False)\n",
    "\n",
    "plt.ylabel ('10^6 Toneladas/año', size= 13)\n"
   ]
  },
  {
   "cell_type": "code",
   "execution_count": null,
   "metadata": {},
   "outputs": [],
   "source": [
    "# GUARDO EL GRAFICO  \n",
    "\n",
    "graf_evo_grupo_produ.savefig('grafico_barras_evo_grupo_produ.png')"
   ]
  },
  {
   "cell_type": "code",
   "execution_count": null,
   "metadata": {},
   "outputs": [],
   "source": [
    "# ESTOY EXTRAYENDO EL PORCENTAJE DE CRECIMIENTO DE LA PRODUCCIONA DE GANADERIA PRIMARIA Y PROCESADA QUE SE INCLUYE DENTRO DEL SECTOR DE LA AGRICULTURA,\n",
    "# PARA VER QUE EL PORCENTAJE ES POSITIVO, EXPLICAR QUE PESE A QUE EL AGUA DISMINIUYE, ESTA PRODUCCION HA AUMENTADO\n",
    "gana_prim_proce = df7[df7['Grupo productos']== 'Ganadería primaria y procesada']\n",
    "gana_prim_proce_2000 = gana_prim_proce[gana_prim_proce['Año']==2000]['Valor'].sum()\n",
    "gana_prim_proce_2018 = gana_prim_proce[gana_prim_proce['Año']==2018]['Valor'].sum()\n",
    "incremento = round(((gana_prim_proce_2018/gana_prim_proce_2000)*100-100),2)\n",
    "incremento"
   ]
  },
  {
   "cell_type": "code",
   "execution_count": null,
   "metadata": {},
   "outputs": [],
   "source": [
    "# PARA EL GRAFICO DE LAS PALABRAS UTILICE TABLEAU E HICE UN REFCORTE DE LA PANTALLA"
   ]
  }
 ],
 "metadata": {
  "interpreter": {
   "hash": "bc09c3e9f0d6bc51beb94b89199d3340d732cea172a24cd65764c101d25e5f2c"
  },
  "kernelspec": {
   "display_name": "Python 3.7.4 64-bit",
   "language": "python",
   "name": "python3"
  },
  "language_info": {
   "codemirror_mode": {
    "name": "ipython",
    "version": 3
   },
   "file_extension": ".py",
   "mimetype": "text/x-python",
   "name": "python",
   "nbconvert_exporter": "python",
   "pygments_lexer": "ipython3",
   "version": "3.7.4"
  },
  "orig_nbformat": 4
 },
 "nbformat": 4,
 "nbformat_minor": 2
}
